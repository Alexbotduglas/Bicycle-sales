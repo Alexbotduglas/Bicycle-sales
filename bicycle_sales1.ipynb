{
 "cells": [
  {
   "cell_type": "code",
   "execution_count": 57,
   "metadata": {},
   "outputs": [
    {
     "name": "stdout",
     "output_type": "stream",
     "text": [
      "Populating the interactive namespace from numpy and matplotlib\n"
     ]
    },
    {
     "name": "stderr",
     "output_type": "stream",
     "text": [
      "C:\\Users\\user\\anaconda3\\lib\\site-packages\\IPython\\core\\magics\\pylab.py:159: UserWarning: pylab import has clobbered these variables: ['datetime', 'test', 'axes', 'pylab', 'product']\n",
      "`%matplotlib` prevents importing * from pylab and numpy\n",
      "  warn(\"pylab import has clobbered these variables: %s\"  % clobbered +\n"
     ]
    }
   ],
   "source": [
    "%pylab inline\n",
    "import pandas as pd\n",
    "from scipy import stats\n",
    "import statsmodels.api as sm\n",
    "import matplotlib.pyplot as plt\n",
    "import warnings\n",
    "from itertools import product"
   ]
  },
  {
   "cell_type": "code",
   "execution_count": 58,
   "metadata": {},
   "outputs": [],
   "source": [
    "#train = pd.read_csv('C:/Users/user/Desktop/data/train.csv')#,',', index_col=['month'], parse_dates=['month'], dayfirst=True)\n",
    "#plt.figure(figsize(15,7))\n",
    "#train.plot()\n",
    "#plt.ylabel('Bicycle_train')\n",
    "#pylab.show()"
   ]
  },
  {
   "cell_type": "markdown",
   "metadata": {},
   "source": [
    "Вам предоставляются данные о почасовой аренде за два года. Для этого соревнования train состоит из первых \n",
    "19 дней каждого месяца, а набор тестов - с 20 до конца месяца. \n",
    "Необходимо спрогнозировать общее количество велосипедов, взятых напрокат в течение каждого часа, \n",
    "охватываемого тестовым набором, используя только информацию, доступную до периода аренды.\n",
    "Также доступны данные о погоде."
   ]
  },
  {
   "cell_type": "code",
   "execution_count": 59,
   "metadata": {},
   "outputs": [],
   "source": [
    "import pylab\n",
    "import numpy as np\n",
    "import pandas as pd\n",
    "import seaborn as sn\n",
    "from datetime import datetime\n",
    "import calendar\n",
    "import matplotlib.pyplot as plt\n",
    "from IPython.core.interactiveshell import InteractiveShell\n",
    "InteractiveShell.ast_node_interactivity = \"all\" \n",
    "%matplotlib inline\n",
    "plt.rcParams['font.sans-serif'] = ['SimHei']\n",
    "plt.rcParams['axes.unicode_minus'] = False\n",
    "# %config InlineBackend.figure_format = 'svg"
   ]
  },
  {
   "cell_type": "code",
   "execution_count": 62,
   "metadata": {},
   "outputs": [],
   "source": [
    "train = pd.read_csv('C:/Users/user/Desktop/data/train.csv')\n",
    "test = pd.read_csv('C:/Users/user/Desktop/data/test.csv')\n",
    "samplesub = pd.read_csv('C:/Users/user/Desktop/data/sampleSubmission.csv')"
   ]
  },
  {
   "cell_type": "code",
   "execution_count": 63,
   "metadata": {},
   "outputs": [
    {
     "data": {
      "text/plain": [
       "(10886, 12)"
      ]
     },
     "execution_count": 63,
     "metadata": {},
     "output_type": "execute_result"
    },
    {
     "data": {
      "text/plain": [
       "(6493, 9)"
      ]
     },
     "execution_count": 63,
     "metadata": {},
     "output_type": "execute_result"
    }
   ],
   "source": [
    "train.shape\n",
    "test.shape"
   ]
  },
  {
   "cell_type": "code",
   "execution_count": 64,
   "metadata": {},
   "outputs": [
    {
     "data": {
      "text/html": [
       "<div>\n",
       "<style scoped>\n",
       "    .dataframe tbody tr th:only-of-type {\n",
       "        vertical-align: middle;\n",
       "    }\n",
       "\n",
       "    .dataframe tbody tr th {\n",
       "        vertical-align: top;\n",
       "    }\n",
       "\n",
       "    .dataframe thead th {\n",
       "        text-align: right;\n",
       "    }\n",
       "</style>\n",
       "<table border=\"1\" class=\"dataframe\">\n",
       "  <thead>\n",
       "    <tr style=\"text-align: right;\">\n",
       "      <th></th>\n",
       "      <th>datetime</th>\n",
       "      <th>season</th>\n",
       "      <th>holiday</th>\n",
       "      <th>workingday</th>\n",
       "      <th>weather</th>\n",
       "      <th>temp</th>\n",
       "      <th>atemp</th>\n",
       "      <th>humidity</th>\n",
       "      <th>windspeed</th>\n",
       "      <th>casual</th>\n",
       "      <th>registered</th>\n",
       "      <th>count</th>\n",
       "    </tr>\n",
       "  </thead>\n",
       "  <tbody>\n",
       "    <tr>\n",
       "      <th>0</th>\n",
       "      <td>2011-01-01 00:00:00</td>\n",
       "      <td>1</td>\n",
       "      <td>0</td>\n",
       "      <td>0</td>\n",
       "      <td>1</td>\n",
       "      <td>9.84</td>\n",
       "      <td>14.395</td>\n",
       "      <td>81</td>\n",
       "      <td>0.0</td>\n",
       "      <td>3</td>\n",
       "      <td>13</td>\n",
       "      <td>16</td>\n",
       "    </tr>\n",
       "    <tr>\n",
       "      <th>1</th>\n",
       "      <td>2011-01-01 01:00:00</td>\n",
       "      <td>1</td>\n",
       "      <td>0</td>\n",
       "      <td>0</td>\n",
       "      <td>1</td>\n",
       "      <td>9.02</td>\n",
       "      <td>13.635</td>\n",
       "      <td>80</td>\n",
       "      <td>0.0</td>\n",
       "      <td>8</td>\n",
       "      <td>32</td>\n",
       "      <td>40</td>\n",
       "    </tr>\n",
       "  </tbody>\n",
       "</table>\n",
       "</div>"
      ],
      "text/plain": [
       "              datetime  season  holiday  workingday  weather  temp   atemp  \\\n",
       "0  2011-01-01 00:00:00       1        0           0        1  9.84  14.395   \n",
       "1  2011-01-01 01:00:00       1        0           0        1  9.02  13.635   \n",
       "\n",
       "   humidity  windspeed  casual  registered  count  \n",
       "0        81        0.0       3          13     16  \n",
       "1        80        0.0       8          32     40  "
      ]
     },
     "execution_count": 64,
     "metadata": {},
     "output_type": "execute_result"
    },
    {
     "data": {
      "text/html": [
       "<div>\n",
       "<style scoped>\n",
       "    .dataframe tbody tr th:only-of-type {\n",
       "        vertical-align: middle;\n",
       "    }\n",
       "\n",
       "    .dataframe tbody tr th {\n",
       "        vertical-align: top;\n",
       "    }\n",
       "\n",
       "    .dataframe thead th {\n",
       "        text-align: right;\n",
       "    }\n",
       "</style>\n",
       "<table border=\"1\" class=\"dataframe\">\n",
       "  <thead>\n",
       "    <tr style=\"text-align: right;\">\n",
       "      <th></th>\n",
       "      <th>datetime</th>\n",
       "      <th>season</th>\n",
       "      <th>holiday</th>\n",
       "      <th>workingday</th>\n",
       "      <th>weather</th>\n",
       "      <th>temp</th>\n",
       "      <th>atemp</th>\n",
       "      <th>humidity</th>\n",
       "      <th>windspeed</th>\n",
       "    </tr>\n",
       "  </thead>\n",
       "  <tbody>\n",
       "    <tr>\n",
       "      <th>0</th>\n",
       "      <td>2011-01-20 00:00:00</td>\n",
       "      <td>1</td>\n",
       "      <td>0</td>\n",
       "      <td>1</td>\n",
       "      <td>1</td>\n",
       "      <td>10.66</td>\n",
       "      <td>11.365</td>\n",
       "      <td>56</td>\n",
       "      <td>26.0027</td>\n",
       "    </tr>\n",
       "    <tr>\n",
       "      <th>1</th>\n",
       "      <td>2011-01-20 01:00:00</td>\n",
       "      <td>1</td>\n",
       "      <td>0</td>\n",
       "      <td>1</td>\n",
       "      <td>1</td>\n",
       "      <td>10.66</td>\n",
       "      <td>13.635</td>\n",
       "      <td>56</td>\n",
       "      <td>0.0000</td>\n",
       "    </tr>\n",
       "  </tbody>\n",
       "</table>\n",
       "</div>"
      ],
      "text/plain": [
       "              datetime  season  holiday  workingday  weather   temp   atemp  \\\n",
       "0  2011-01-20 00:00:00       1        0           1        1  10.66  11.365   \n",
       "1  2011-01-20 01:00:00       1        0           1        1  10.66  13.635   \n",
       "\n",
       "   humidity  windspeed  \n",
       "0        56    26.0027  \n",
       "1        56     0.0000  "
      ]
     },
     "execution_count": 64,
     "metadata": {},
     "output_type": "execute_result"
    }
   ],
   "source": [
    "train.head(2)\n",
    "test.head(2)"
   ]
  },
  {
   "cell_type": "markdown",
   "metadata": {},
   "source": [
    "Обучающий набор содержит 10886 наборов данных, тестовый набор содержит 6493 строки данных, и число столбцов в тестовом наборе должно быть предсказано."
   ]
  },
  {
   "cell_type": "code",
   "execution_count": 65,
   "metadata": {},
   "outputs": [
    {
     "data": {
      "text/plain": [
       "datetime       object\n",
       "season          int64\n",
       "holiday         int64\n",
       "workingday      int64\n",
       "weather         int64\n",
       "temp          float64\n",
       "atemp         float64\n",
       "humidity        int64\n",
       "windspeed     float64\n",
       "casual          int64\n",
       "registered      int64\n",
       "count           int64\n",
       "dtype: object"
      ]
     },
     "execution_count": 65,
     "metadata": {},
     "output_type": "execute_result"
    }
   ],
   "source": [
    "train.dtypes"
   ]
  },
  {
   "cell_type": "markdown",
   "metadata": {},
   "source": [
    "Необходимо разделить дату и время на дату и время, и Дата преобразуется в число дней с первого дня записи набора данных как новый набор функций."
   ]
  },
  {
   "cell_type": "code",
   "execution_count": 66,
   "metadata": {},
   "outputs": [],
   "source": [
    "train['date'] = train.datetime.apply(lambda x: x.split()[0])\n",
    "train['hour'] = train.datetime.apply(lambda x: x.split()[1].split(':')[0])\n",
    "begin = datetime(2011, 1, 1)\n",
    "train['pirod'] = train.date.apply(lambda x: (datetime.strptime(x, \"%Y-%m-%d\") - begin).days)"
   ]
  },
  {
   "cell_type": "markdown",
   "metadata": {},
   "source": [
    "Удалим избыточный столбец даты и времени"
   ]
  },
  {
   "cell_type": "code",
   "execution_count": 67,
   "metadata": {},
   "outputs": [],
   "source": [
    "train = train.drop(['datetime'], axis=1)"
   ]
  },
  {
   "cell_type": "markdown",
   "metadata": {},
   "source": [
    "этот набор данных не имеет пропущенных значений."
   ]
  },
  {
   "cell_type": "code",
   "execution_count": 68,
   "metadata": {},
   "outputs": [
    {
     "data": {
      "text/plain": [
       "season        0\n",
       "holiday       0\n",
       "workingday    0\n",
       "weather       0\n",
       "temp          0\n",
       "atemp         0\n",
       "humidity      0\n",
       "windspeed     0\n",
       "casual        0\n",
       "registered    0\n",
       "count         0\n",
       "date          0\n",
       "hour          0\n",
       "pirod         0\n",
       "dtype: int64"
      ]
     },
     "execution_count": 68,
     "metadata": {},
     "output_type": "execute_result"
    }
   ],
   "source": [
    "train.count() - len(train)"
   ]
  },
  {
   "cell_type": "markdown",
   "metadata": {},
   "source": [
    "## Управление выбросами "
   ]
  },
  {
   "cell_type": "code",
   "execution_count": 69,
   "metadata": {},
   "outputs": [
    {
     "data": {
      "text/plain": [
       "<AxesSubplot:ylabel='count'>"
      ]
     },
     "execution_count": 69,
     "metadata": {},
     "output_type": "execute_result"
    },
    {
     "data": {
      "image/png": "[encoded data removed]",
      "text/plain": [
       "<Figure size 432x288 with 1 Axes>"
      ]
     },
     "metadata": {
      "needs_background": "light"
     },
     "output_type": "display_data"
    }
   ],
   "source": [
    "sn.boxplot(data=train,y=\"count\",orient=\"v\")"
   ]
  },
  {
   "cell_type": "markdown",
   "metadata": {},
   "source": [
    "Сначала создаем рамочный график. При моделировании точки, превышающие верхнюю границу, обычно считаются аномальными точками данных. Однако, учитывая несоответствие между транспортными средствами, используемыми в часы пик в середине ночи, удаляются только значения, превышающие стандартное отклонение, превышающее его в три раза."
   ]
  },
  {
   "cell_type": "code",
   "execution_count": 70,
   "metadata": {},
   "outputs": [],
   "source": [
    "outliers_removed = train[np.abs(train['count'] - train['count'].mean()) <= (3 * train['count'].std())]"
   ]
  },
  {
   "cell_type": "code",
   "execution_count": 71,
   "metadata": {},
   "outputs": [
    {
     "data": {
      "text/plain": [
       "[Text(0.5, 1.0, 'Удалить выбросы')]"
      ]
     },
     "execution_count": 71,
     "metadata": {},
     "output_type": "execute_result"
    },
    {
     "data": {
      "image/png": "[encoded data removed]",
      "text/plain": [
       "<Figure size 432x288 with 1 Axes>"
      ]
     },
     "metadata": {
      "needs_background": "light"
     },
     "output_type": "display_data"
    }
   ],
   "source": [
    "ax = sn.boxplot(data=outliers_removed,y=\"count\",orient=\"v\")\n",
    "ax.set(title=\"Удалить выбросы\")"
   ]
  },
  {
   "cell_type": "markdown",
   "metadata": {},
   "source": [
    "## Корреляционный анализ"
   ]
  },
  {
   "cell_type": "code",
   "execution_count": 72,
   "metadata": {},
   "outputs": [
    {
     "data": {
      "text/plain": [
       "<AxesSubplot:>"
      ]
     },
     "execution_count": 72,
     "metadata": {},
     "output_type": "execute_result"
    },
    {
     "data": {
      "image/png": "[encoded data removed]",
      "text/plain": [
       "<Figure size 864x432 with 2 Axes>"
      ]
     },
     "metadata": {
      "needs_background": "light"
     },
     "output_type": "display_data"
    }
   ],
   "source": [
    "corr_mat = train[['pirod', 'temp', 'atemp', 'casual', 'registered','humidity', 'windspeed', 'count']].corr()\n",
    "mask = np.array(corr_mat)\n",
    "mask[np.tril_indices_from(mask)] = False\n",
    "fig, ax = plt.subplots()\n",
    "fig.set_size_inches(12, 6)\n",
    "sn.heatmap(corr_mat, mask=mask, vmax=8, square=True, annot=True)"
   ]
  },
  {
   "cell_type": "markdown",
   "metadata": {},
   "source": [
    "## Статистическое распределение"
   ]
  },
  {
   "cell_type": "code",
   "execution_count": 73,
   "metadata": {},
   "outputs": [
    {
     "name": "stderr",
     "output_type": "stream",
     "text": [
      "C:\\Users\\user\\anaconda3\\lib\\site-packages\\seaborn\\distributions.py:2551: FutureWarning: `distplot` is a deprecated function and will be removed in a future version. Please adapt your code to use either `displot` (a figure-level function with similar flexibility) or `histplot` (an axes-level function for histograms).\n",
      "  warnings.warn(msg, FutureWarning)\n"
     ]
    },
    {
     "data": {
      "text/plain": [
       "[Text(0.5, 1.0, 'Статистическое распределение графа')]"
      ]
     },
     "execution_count": 73,
     "metadata": {},
     "output_type": "execute_result"
    },
    {
     "data": {
      "image/png": "[encoded data removed]",
      "text/plain": [
       "<Figure size 432x288 with 1 Axes>"
      ]
     },
     "metadata": {
      "needs_background": "light"
     },
     "output_type": "display_data"
    }
   ],
   "source": [
    "axes = sn.distplot(outliers_removed['count'])\n",
    "axes.set(title=\"Статистическое распределение графа\")"
   ]
  },
  {
   "cell_type": "markdown",
   "metadata": {},
   "source": [
    "Распределение «count» несколько похоже на нормальное распределение, но в основном сосредоточено на небольшой территории"
   ]
  },
  {
   "cell_type": "markdown",
   "metadata": {},
   "source": [
    "## Визуализация данных"
   ]
  },
  {
   "cell_type": "code",
   "execution_count": 74,
   "metadata": {},
   "outputs": [
    {
     "data": {
      "text/plain": [
       "<AxesSubplot:xlabel='hour', ylabel='count'>"
      ]
     },
     "execution_count": 74,
     "metadata": {},
     "output_type": "execute_result"
    },
    {
     "data": {
      "text/plain": [
       "[Text(0.5, 0, 'час'), Text(0.5, 1.0, 'Среднее использование в час в день')]"
      ]
     },
     "execution_count": 74,
     "metadata": {},
     "output_type": "execute_result"
    },
    {
     "data": {
      "image/png": "[encoded data removed]",
      "text/plain": [
       "<Figure size 576x432 with 1 Axes>"
      ]
     },
     "metadata": {
      "needs_background": "light"
     },
     "output_type": "display_data"
    }
   ],
   "source": [
    "fig, ax = plt.subplots(1)\n",
    "fig.set_size_inches(8, 6)\n",
    "hourAggregated = pd.DataFrame(train.groupby([\"hour\",\"season\"],sort=True)[\"count\"].mean()).reset_index()\n",
    "sn.pointplot(x=hourAggregated[\"hour\"], y=hourAggregated[\"count\"],hue=hourAggregated[\"season\"], data=hourAggregated, join=True, ax=ax)\n",
    "ax.set(xlabel='час', title=\"Среднее использование в час в день\")"
   ]
  },
  {
   "cell_type": "markdown",
   "metadata": {},
   "source": [
    "С сезонной точки зрения изменения в использовании примерно одинаковы: с точки зрения времени, использование имеет очевидные утренние и вечерние пики."
   ]
  },
  {
   "cell_type": "code",
   "execution_count": 75,
   "metadata": {},
   "outputs": [
    {
     "data": {
      "text/plain": [
       "<AxesSubplot:xlabel='season', ylabel='count'>"
      ]
     },
     "execution_count": 75,
     "metadata": {},
     "output_type": "execute_result"
    },
    {
     "data": {
      "text/plain": [
       "[Text(0.5, 1.0, 'Среднеквартальный')]"
      ]
     },
     "execution_count": 75,
     "metadata": {},
     "output_type": "execute_result"
    },
    {
     "data": {
      "image/png": "[encoded data removed]",
      "text/plain": [
       "<Figure size 576x432 with 1 Axes>"
      ]
     },
     "metadata": {
      "needs_background": "light"
     },
     "output_type": "display_data"
    }
   ],
   "source": [
    "fig, ax = plt.subplots(1)\n",
    "fig.set_size_inches(8, 6)\n",
    "season_aggregated = pd.DataFrame(train.groupby(\"season\")[\"count\"].mean()).reset_index()\n",
    "sn.barplot(data=season_aggregated,x=season_aggregated['season'],y=season_aggregated['count'],ax=ax)\n",
    "ax.set(title=\"Среднеквартальный\")"
   ]
  },
  {
   "cell_type": "markdown",
   "metadata": {},
   "source": [
    "Весеннее использование относительно низкое, что может быть связано с важными западными праздниками весной, и количество поездок значительно сокращается."
   ]
  },
  {
   "cell_type": "code",
   "execution_count": 76,
   "metadata": {},
   "outputs": [
    {
     "data": {
      "text/plain": [
       "<AxesSubplot:xlabel='hour', ylabel='value'>"
      ]
     },
     "execution_count": 76,
     "metadata": {},
     "output_type": "execute_result"
    },
    {
     "data": {
      "text/plain": [
       "[Text(0.5, 0, 'час'),\n",
       " Text(0, 0.5, 'count'),\n",
       " Text(0.5, 1.0, 'Количество пользователей и не-пользователей в день'),\n",
       " None]"
      ]
     },
     "execution_count": 76,
     "metadata": {},
     "output_type": "execute_result"
    },
    {
     "data": {
      "image/png": "[encoded data removed]",
      "text/plain": [
       "<Figure size 576x432 with 1 Axes>"
      ]
     },
     "metadata": {
      "needs_background": "light"
     },
     "output_type": "display_data"
    }
   ],
   "source": [
    "fig, ax = plt.subplots(1)\n",
    "fig.set_size_inches(8, 6)\n",
    "hourTransformed = pd.melt(train[[\"hour\",\"casual\",\"registered\"]], id_vars=['hour'], value_vars=['casual', 'registered'])\n",
    "hourAggregated = pd.DataFrame(hourTransformed.groupby([\"hour\",\"variable\"],sort=True)[\"value\"].mean()).reset_index()\n",
    "sn.pointplot(x=hourAggregated[\"hour\"], y=hourAggregated[\"value\"],hue=hourAggregated[\"variable\"],hue_order=[\"casual\",\"registered\"], data=hourAggregated, join=True,ax=ax)\n",
    "ax.set(xlabel='час', ylabel='count',title=\"Количество пользователей и не-пользователей в день\",label='big')"
   ]
  },
  {
   "cell_type": "markdown",
   "metadata": {},
   "source": [
    "Как видно из приведенного выше рисунка, пользователи-участники используют более регулярно и имеют фиксированный режим передвижения, что отражается в появлении утренних и вечерних пиков. Пользователи, не являющиеся членами, используют его только временно, что является более случайным с точки зрения объема"
   ]
  },
  {
   "cell_type": "markdown",
   "metadata": {},
   "source": [
    "## Прогноз регрессии"
   ]
  },
  {
   "cell_type": "code",
   "execution_count": 77,
   "metadata": {},
   "outputs": [],
   "source": [
    "train = pd.read_csv('./data/train.csv')\n",
    "test = pd.read_csv('./data/test.csv')"
   ]
  },
  {
   "cell_type": "code",
   "execution_count": 78,
   "metadata": {},
   "outputs": [],
   "source": [
    "train['date'] = train.datetime.apply(lambda x: x.split()[0])\n",
    "train['hour'] = train.datetime.apply(lambda x: int(x.split()[1].split(':')[0]))\n",
    "begin = datetime(2011, 1, 1)\n",
    "train['pirod'] = train.date.apply(lambda x: (datetime.strptime(x, \"%Y-%m-%d\") - begin).days)\n",
    "train = train.drop(['datetime'], axis=1)\n",
    "train = train[np.abs(train['count'] - train['count'].mean()) <= (3 * train['count'].std())]\n",
    "\n",
    "test['date'] = test.datetime.apply(lambda x: x.split()[0])\n",
    "test['hour'] = test.datetime.apply(lambda x: int(x.split()[1].split(':')[0]))\n",
    "test['pirod'] = test.date.apply(lambda x: (datetime.strptime(x, \"%Y-%m-%d\") - begin).days)\n",
    "submmit_datetime = test['datetime']\n",
    "test = test.drop(['datetime'], axis=1)"
   ]
  },
  {
   "cell_type": "markdown",
   "metadata": {},
   "source": [
    "Удалим температуру тела «atemp», поскольку она имеет высокую линейную корреляцию с «temp»"
   ]
  },
  {
   "cell_type": "code",
   "execution_count": 79,
   "metadata": {},
   "outputs": [],
   "source": [
    "#train = train.drop(['atemp'], axis=1)\n",
    "#test = test.drop(['atemp'], axis=1)"
   ]
  },
  {
   "cell_type": "code",
   "execution_count": 80,
   "metadata": {},
   "outputs": [
    {
     "data": {
      "text/html": [
       "<div>\n",
       "<style scoped>\n",
       "    .dataframe tbody tr th:only-of-type {\n",
       "        vertical-align: middle;\n",
       "    }\n",
       "\n",
       "    .dataframe tbody tr th {\n",
       "        vertical-align: top;\n",
       "    }\n",
       "\n",
       "    .dataframe thead th {\n",
       "        text-align: right;\n",
       "    }\n",
       "</style>\n",
       "<table border=\"1\" class=\"dataframe\">\n",
       "  <thead>\n",
       "    <tr style=\"text-align: right;\">\n",
       "      <th></th>\n",
       "      <th>season</th>\n",
       "      <th>holiday</th>\n",
       "      <th>workingday</th>\n",
       "      <th>weather</th>\n",
       "      <th>temp</th>\n",
       "      <th>atemp</th>\n",
       "      <th>humidity</th>\n",
       "      <th>windspeed</th>\n",
       "      <th>date</th>\n",
       "      <th>hour</th>\n",
       "      <th>pirod</th>\n",
       "    </tr>\n",
       "  </thead>\n",
       "  <tbody>\n",
       "    <tr>\n",
       "      <th>0</th>\n",
       "      <td>1</td>\n",
       "      <td>0</td>\n",
       "      <td>1</td>\n",
       "      <td>1</td>\n",
       "      <td>10.66</td>\n",
       "      <td>11.365</td>\n",
       "      <td>56</td>\n",
       "      <td>26.0027</td>\n",
       "      <td>2011-01-20</td>\n",
       "      <td>0</td>\n",
       "      <td>19</td>\n",
       "    </tr>\n",
       "  </tbody>\n",
       "</table>\n",
       "</div>"
      ],
      "text/plain": [
       "   season  holiday  workingday  weather   temp   atemp  humidity  windspeed  \\\n",
       "0       1        0           1        1  10.66  11.365        56    26.0027   \n",
       "\n",
       "         date  hour  pirod  \n",
       "0  2011-01-20     0     19  "
      ]
     },
     "execution_count": 80,
     "metadata": {},
     "output_type": "execute_result"
    },
    {
     "data": {
      "text/html": [
       "<div>\n",
       "<style scoped>\n",
       "    .dataframe tbody tr th:only-of-type {\n",
       "        vertical-align: middle;\n",
       "    }\n",
       "\n",
       "    .dataframe tbody tr th {\n",
       "        vertical-align: top;\n",
       "    }\n",
       "\n",
       "    .dataframe thead th {\n",
       "        text-align: right;\n",
       "    }\n",
       "</style>\n",
       "<table border=\"1\" class=\"dataframe\">\n",
       "  <thead>\n",
       "    <tr style=\"text-align: right;\">\n",
       "      <th></th>\n",
       "      <th>season</th>\n",
       "      <th>holiday</th>\n",
       "      <th>workingday</th>\n",
       "      <th>weather</th>\n",
       "      <th>temp</th>\n",
       "      <th>atemp</th>\n",
       "      <th>humidity</th>\n",
       "      <th>windspeed</th>\n",
       "      <th>casual</th>\n",
       "      <th>registered</th>\n",
       "      <th>count</th>\n",
       "      <th>date</th>\n",
       "      <th>hour</th>\n",
       "      <th>pirod</th>\n",
       "    </tr>\n",
       "  </thead>\n",
       "  <tbody>\n",
       "    <tr>\n",
       "      <th>0</th>\n",
       "      <td>1</td>\n",
       "      <td>0</td>\n",
       "      <td>0</td>\n",
       "      <td>1</td>\n",
       "      <td>9.84</td>\n",
       "      <td>14.395</td>\n",
       "      <td>81</td>\n",
       "      <td>0.0</td>\n",
       "      <td>3</td>\n",
       "      <td>13</td>\n",
       "      <td>16</td>\n",
       "      <td>2011-01-01</td>\n",
       "      <td>0</td>\n",
       "      <td>0</td>\n",
       "    </tr>\n",
       "  </tbody>\n",
       "</table>\n",
       "</div>"
      ],
      "text/plain": [
       "   season  holiday  workingday  weather  temp   atemp  humidity  windspeed  \\\n",
       "0       1        0           0        1  9.84  14.395        81        0.0   \n",
       "\n",
       "   casual  registered  count        date  hour  pirod  \n",
       "0       3          13     16  2011-01-01     0      0  "
      ]
     },
     "execution_count": 80,
     "metadata": {},
     "output_type": "execute_result"
    }
   ],
   "source": [
    "test.head(1)\n",
    "train.head(1)"
   ]
  },
  {
   "cell_type": "code",
   "execution_count": 81,
   "metadata": {},
   "outputs": [
    {
     "data": {
      "text/html": [
       "<div>\n",
       "<style scoped>\n",
       "    .dataframe tbody tr th:only-of-type {\n",
       "        vertical-align: middle;\n",
       "    }\n",
       "\n",
       "    .dataframe tbody tr th {\n",
       "        vertical-align: top;\n",
       "    }\n",
       "\n",
       "    .dataframe thead th {\n",
       "        text-align: right;\n",
       "    }\n",
       "</style>\n",
       "<table border=\"1\" class=\"dataframe\">\n",
       "  <thead>\n",
       "    <tr style=\"text-align: right;\">\n",
       "      <th></th>\n",
       "      <th>season</th>\n",
       "      <th>holiday</th>\n",
       "      <th>workingday</th>\n",
       "      <th>weather</th>\n",
       "      <th>temp</th>\n",
       "      <th>atemp</th>\n",
       "      <th>humidity</th>\n",
       "      <th>windspeed</th>\n",
       "      <th>hour</th>\n",
       "      <th>pirod</th>\n",
       "    </tr>\n",
       "  </thead>\n",
       "  <tbody>\n",
       "    <tr>\n",
       "      <th>0</th>\n",
       "      <td>1</td>\n",
       "      <td>0</td>\n",
       "      <td>1</td>\n",
       "      <td>1</td>\n",
       "      <td>10.66</td>\n",
       "      <td>11.365</td>\n",
       "      <td>56</td>\n",
       "      <td>26.0027</td>\n",
       "      <td>0</td>\n",
       "      <td>19</td>\n",
       "    </tr>\n",
       "  </tbody>\n",
       "</table>\n",
       "</div>"
      ],
      "text/plain": [
       "   season  holiday  workingday  weather   temp   atemp  humidity  windspeed  \\\n",
       "0       1        0           1        1  10.66  11.365        56    26.0027   \n",
       "\n",
       "   hour  pirod  \n",
       "0     0     19  "
      ]
     },
     "execution_count": 81,
     "metadata": {},
     "output_type": "execute_result"
    },
    {
     "data": {
      "text/html": [
       "<div>\n",
       "<style scoped>\n",
       "    .dataframe tbody tr th:only-of-type {\n",
       "        vertical-align: middle;\n",
       "    }\n",
       "\n",
       "    .dataframe tbody tr th {\n",
       "        vertical-align: top;\n",
       "    }\n",
       "\n",
       "    .dataframe thead th {\n",
       "        text-align: right;\n",
       "    }\n",
       "</style>\n",
       "<table border=\"1\" class=\"dataframe\">\n",
       "  <thead>\n",
       "    <tr style=\"text-align: right;\">\n",
       "      <th></th>\n",
       "      <th>season</th>\n",
       "      <th>holiday</th>\n",
       "      <th>workingday</th>\n",
       "      <th>weather</th>\n",
       "      <th>temp</th>\n",
       "      <th>atemp</th>\n",
       "      <th>humidity</th>\n",
       "      <th>windspeed</th>\n",
       "      <th>hour</th>\n",
       "      <th>pirod</th>\n",
       "    </tr>\n",
       "  </thead>\n",
       "  <tbody>\n",
       "    <tr>\n",
       "      <th>0</th>\n",
       "      <td>1</td>\n",
       "      <td>0</td>\n",
       "      <td>0</td>\n",
       "      <td>1</td>\n",
       "      <td>9.84</td>\n",
       "      <td>14.395</td>\n",
       "      <td>81</td>\n",
       "      <td>0.0</td>\n",
       "      <td>0</td>\n",
       "      <td>0</td>\n",
       "    </tr>\n",
       "  </tbody>\n",
       "</table>\n",
       "</div>"
      ],
      "text/plain": [
       "   season  holiday  workingday  weather  temp   atemp  humidity  windspeed  \\\n",
       "0       1        0           0        1  9.84  14.395        81        0.0   \n",
       "\n",
       "   hour  pirod  \n",
       "0     0      0  "
      ]
     },
     "execution_count": 81,
     "metadata": {},
     "output_type": "execute_result"
    }
   ],
   "source": [
    "test.drop(['date'], axis=1).head(1)\n",
    "train.drop(['date', 'casual', 'registered', 'count'], axis=1).head(1)"
   ]
  },
  {
   "cell_type": "code",
   "execution_count": 82,
   "metadata": {},
   "outputs": [],
   "source": [
    "#xArr = train.drop(['date','casual', 'registered', 'count'], axis=1).as_matrix()"
   ]
  },
  {
   "cell_type": "code",
   "execution_count": 83,
   "metadata": {},
   "outputs": [],
   "source": [
    "from numpy.linalg import LinAlgError\n",
    "def lwlr(testPoint, xArr, yArr, k = 1.0):\n",
    "    xMat = np.mat(xArr); yMat = np.mat(yArr).T\n",
    "    m = np.shape(xMat)[0]\n",
    "    weights = np.mat(np.eye((m)))                                        \n",
    "    for j in range(m):                                                  \n",
    "        diffMat = testPoint - xMat[j, :]                                 \n",
    "        weights[j, j] = np.exp(diffMat * diffMat.T/(-2.0 * k**2))\n",
    "    xTx = xMat.T * (weights * xMat)                                        \n",
    "    if np.linalg.det(xTx) == 0.0:\n",
    "        print(\"Матрица является особой матрицей и не может быть инвертирована\")\n",
    "        return\n",
    "    ws = xTx.I * (xMat.T * (weights * yMat))\n",
    "    return float(testPoint * ws)\n",
    "\n",
    "def lwlrTest(testArr, xArr, yArr, k=1.0):\n",
    "    m = np.shape(testArr)[0]                                           \n",
    "    yHat = np.zeros(m)    \n",
    "    for i in range(m):\n",
    "        try:\n",
    "            yHat[i] = lwlr(testArr[i],xArr,yArr,k)\n",
    "        except LinAlgError:\n",
    "            yHat[i] = yHat[i-1]\n",
    "    return yHat"
   ]
  },
  {
   "cell_type": "markdown",
   "metadata": {},
   "source": [
    "## регрессионная модель Склеарна"
   ]
  },
  {
   "cell_type": "code",
   "execution_count": 84,
   "metadata": {},
   "outputs": [
    {
     "data": {
      "text/html": [
       "<div>\n",
       "<style scoped>\n",
       "    .dataframe tbody tr th:only-of-type {\n",
       "        vertical-align: middle;\n",
       "    }\n",
       "\n",
       "    .dataframe tbody tr th {\n",
       "        vertical-align: top;\n",
       "    }\n",
       "\n",
       "    .dataframe thead th {\n",
       "        text-align: right;\n",
       "    }\n",
       "</style>\n",
       "<table border=\"1\" class=\"dataframe\">\n",
       "  <thead>\n",
       "    <tr style=\"text-align: right;\">\n",
       "      <th></th>\n",
       "      <th>season</th>\n",
       "      <th>holiday</th>\n",
       "      <th>workingday</th>\n",
       "      <th>weather</th>\n",
       "      <th>temp</th>\n",
       "      <th>atemp</th>\n",
       "      <th>humidity</th>\n",
       "      <th>windspeed</th>\n",
       "      <th>date</th>\n",
       "      <th>hour</th>\n",
       "      <th>pirod</th>\n",
       "    </tr>\n",
       "  </thead>\n",
       "  <tbody>\n",
       "    <tr>\n",
       "      <th>0</th>\n",
       "      <td>1</td>\n",
       "      <td>0</td>\n",
       "      <td>1</td>\n",
       "      <td>1</td>\n",
       "      <td>10.66</td>\n",
       "      <td>11.365</td>\n",
       "      <td>56</td>\n",
       "      <td>26.0027</td>\n",
       "      <td>2011-01-20</td>\n",
       "      <td>0</td>\n",
       "      <td>19</td>\n",
       "    </tr>\n",
       "  </tbody>\n",
       "</table>\n",
       "</div>"
      ],
      "text/plain": [
       "   season  holiday  workingday  weather   temp   atemp  humidity  windspeed  \\\n",
       "0       1        0           1        1  10.66  11.365        56    26.0027   \n",
       "\n",
       "         date  hour  pirod  \n",
       "0  2011-01-20     0     19  "
      ]
     },
     "execution_count": 84,
     "metadata": {},
     "output_type": "execute_result"
    }
   ],
   "source": [
    "test.head(1)"
   ]
  },
  {
   "cell_type": "markdown",
   "metadata": {},
   "source": [
    "## Линейная регрессия"
   ]
  },
  {
   "cell_type": "code",
   "execution_count": 85,
   "metadata": {},
   "outputs": [],
   "source": [
    "from sklearn.linear_model import LinearRegression"
   ]
  },
  {
   "cell_type": "code",
   "execution_count": 86,
   "metadata": {},
   "outputs": [],
   "source": [
    "dataTrain = train.drop(['date','casual', 'registered', 'count'], axis=1)\n",
    "dataTest = test.drop(['date'], axis=1)\n",
    "yLabels = train[\"count\"]\n",
    "yLablesRegistered = train[\"registered\"]\n",
    "yLablesCasual = train[\"casual\"]"
   ]
  },
  {
   "cell_type": "code",
   "execution_count": 87,
   "metadata": {},
   "outputs": [
    {
     "data": {
      "text/html": [
       "<div>\n",
       "<style scoped>\n",
       "    .dataframe tbody tr th:only-of-type {\n",
       "        vertical-align: middle;\n",
       "    }\n",
       "\n",
       "    .dataframe tbody tr th {\n",
       "        vertical-align: top;\n",
       "    }\n",
       "\n",
       "    .dataframe thead th {\n",
       "        text-align: right;\n",
       "    }\n",
       "</style>\n",
       "<table border=\"1\" class=\"dataframe\">\n",
       "  <thead>\n",
       "    <tr style=\"text-align: right;\">\n",
       "      <th></th>\n",
       "      <th>season</th>\n",
       "      <th>holiday</th>\n",
       "      <th>workingday</th>\n",
       "      <th>weather</th>\n",
       "      <th>temp</th>\n",
       "      <th>atemp</th>\n",
       "      <th>humidity</th>\n",
       "      <th>windspeed</th>\n",
       "      <th>hour</th>\n",
       "      <th>pirod</th>\n",
       "    </tr>\n",
       "  </thead>\n",
       "  <tbody>\n",
       "    <tr>\n",
       "      <th>0</th>\n",
       "      <td>1</td>\n",
       "      <td>0</td>\n",
       "      <td>0</td>\n",
       "      <td>1</td>\n",
       "      <td>9.84</td>\n",
       "      <td>14.395</td>\n",
       "      <td>81</td>\n",
       "      <td>0.0</td>\n",
       "      <td>0</td>\n",
       "      <td>0</td>\n",
       "    </tr>\n",
       "  </tbody>\n",
       "</table>\n",
       "</div>"
      ],
      "text/plain": [
       "   season  holiday  workingday  weather  temp   atemp  humidity  windspeed  \\\n",
       "0       1        0           0        1  9.84  14.395        81        0.0   \n",
       "\n",
       "   hour  pirod  \n",
       "0     0      0  "
      ]
     },
     "execution_count": 87,
     "metadata": {},
     "output_type": "execute_result"
    },
    {
     "data": {
      "text/html": [
       "<div>\n",
       "<style scoped>\n",
       "    .dataframe tbody tr th:only-of-type {\n",
       "        vertical-align: middle;\n",
       "    }\n",
       "\n",
       "    .dataframe tbody tr th {\n",
       "        vertical-align: top;\n",
       "    }\n",
       "\n",
       "    .dataframe thead th {\n",
       "        text-align: right;\n",
       "    }\n",
       "</style>\n",
       "<table border=\"1\" class=\"dataframe\">\n",
       "  <thead>\n",
       "    <tr style=\"text-align: right;\">\n",
       "      <th></th>\n",
       "      <th>season</th>\n",
       "      <th>holiday</th>\n",
       "      <th>workingday</th>\n",
       "      <th>weather</th>\n",
       "      <th>temp</th>\n",
       "      <th>atemp</th>\n",
       "      <th>humidity</th>\n",
       "      <th>windspeed</th>\n",
       "      <th>hour</th>\n",
       "      <th>pirod</th>\n",
       "    </tr>\n",
       "  </thead>\n",
       "  <tbody>\n",
       "    <tr>\n",
       "      <th>0</th>\n",
       "      <td>1</td>\n",
       "      <td>0</td>\n",
       "      <td>1</td>\n",
       "      <td>1</td>\n",
       "      <td>10.66</td>\n",
       "      <td>11.365</td>\n",
       "      <td>56</td>\n",
       "      <td>26.0027</td>\n",
       "      <td>0</td>\n",
       "      <td>19</td>\n",
       "    </tr>\n",
       "  </tbody>\n",
       "</table>\n",
       "</div>"
      ],
      "text/plain": [
       "   season  holiday  workingday  weather   temp   atemp  humidity  windspeed  \\\n",
       "0       1        0           1        1  10.66  11.365        56    26.0027   \n",
       "\n",
       "   hour  pirod  \n",
       "0     0     19  "
      ]
     },
     "execution_count": 87,
     "metadata": {},
     "output_type": "execute_result"
    }
   ],
   "source": [
    "dataTrain.head(1)\n",
    "dataTest.head(1)"
   ]
  },
  {
   "cell_type": "code",
   "execution_count": 88,
   "metadata": {},
   "outputs": [
    {
     "data": {
      "text/plain": [
       "LinearRegression()"
      ]
     },
     "execution_count": 88,
     "metadata": {},
     "output_type": "execute_result"
    }
   ],
   "source": [
    "model = LinearRegression()\n",
    "yLabelsLog = np.log1p(yLabels)\n",
    "model.fit(X=dataTrain, y=yLabelsLog)"
   ]
  },
  {
   "cell_type": "code",
   "execution_count": 89,
   "metadata": {},
   "outputs": [],
   "source": [
    "LR_preds = model.predict(dataTest)"
   ]
  },
  {
   "cell_type": "code",
   "execution_count": 90,
   "metadata": {},
   "outputs": [
    {
     "data": {
      "text/plain": [
       "151.20271038485853"
      ]
     },
     "execution_count": 90,
     "metadata": {},
     "output_type": "execute_result"
    }
   ],
   "source": [
    "np.exp(LR_preds).mean()"
   ]
  },
  {
   "cell_type": "code",
   "execution_count": 91,
   "metadata": {},
   "outputs": [],
   "source": [
    "submission = pd.DataFrame({\n",
    "    \"datetime\": submmit_datetime, \n",
    "    \"count\": np.exp(LR_preds)\n",
    "})\n",
    "submission.to_csv('LR_submission.csv', index=False)"
   ]
  },
  {
   "cell_type": "code",
   "execution_count": 92,
   "metadata": {},
   "outputs": [
    {
     "name": "stdout",
     "output_type": "stream",
     "text": [
      "                 datetime       count\n",
      "0     2011-01-20 00:00:00   13.228792\n",
      "1     2011-01-20 01:00:00   13.949019\n",
      "2     2011-01-20 02:00:00   15.379639\n",
      "3     2011-01-20 03:00:00   17.406407\n",
      "4     2011-01-20 04:00:00   19.191620\n",
      "...                   ...         ...\n",
      "6488  2012-12-31 19:00:00  174.798696\n",
      "6489  2012-12-31 20:00:00  192.726165\n",
      "6490  2012-12-31 21:00:00  213.484876\n",
      "6491  2012-12-31 22:00:00  253.464496\n",
      "6492  2012-12-31 23:00:00  245.877087\n",
      "\n",
      "[6493 rows x 2 columns]\n"
     ]
    }
   ],
   "source": [
    "print(submission)"
   ]
  },
  {
   "cell_type": "markdown",
   "metadata": {},
   "source": [
    "## Хребет регрессии"
   ]
  },
  {
   "cell_type": "code",
   "execution_count": 93,
   "metadata": {},
   "outputs": [],
   "source": [
    "from sklearn.linear_model import Ridge\n",
    "from sklearn.model_selection import GridSearchCV\n",
    "from sklearn import metrics\n",
    "import warnings\n",
    "pd.options.mode.chained_assignment = None\n",
    "warnings.filterwarnings(\"ignore\", category=DeprecationWarning)"
   ]
  },
  {
   "cell_type": "code",
   "execution_count": 94,
   "metadata": {},
   "outputs": [],
   "source": [
    "def rmsle(y, y_,convertExp=True):\n",
    "    if convertExp:\n",
    "        y = np.exp(y),\n",
    "        y_ = np.exp(y_)\n",
    "    log1 = np.nan_to_num(np.array([np.log(v + 1) for v in y]))\n",
    "    log2 = np.nan_to_num(np.array([np.log(v + 1) for v in y_]))\n",
    "    calc = (log1 - log2) ** 2\n",
    "    return np.sqrt(np.mean(calc))"
   ]
  },
  {
   "cell_type": "code",
   "execution_count": 95,
   "metadata": {},
   "outputs": [
    {
     "data": {
      "text/plain": [
       "GridSearchCV(cv=5, estimator=Ridge(),\n",
       "             param_grid={'alpha': [0.1, 1, 2, 3, 4, 10, 30, 100, 200, 300, 400,\n",
       "                                   800, 900, 1000],\n",
       "                         'max_iter': [3000]},\n",
       "             scoring=make_scorer(rmsle, greater_is_better=False))"
      ]
     },
     "execution_count": 95,
     "metadata": {},
     "output_type": "execute_result"
    },
    {
     "name": "stdout",
     "output_type": "stream",
     "text": [
      "{'alpha': 1000, 'max_iter': 3000}\n",
      "RMSLE Value For Ridge Regression:  0.9779238843042818\n"
     ]
    }
   ],
   "source": [
    "ridge_m_ = Ridge()\n",
    "ridge_params_ = { 'max_iter':[3000],'alpha':[0.1, 1, 2, 3, 4, 10, 30,100,200,300,400,800,900,1000]}\n",
    "rmsle_scorer = metrics.make_scorer(rmsle, greater_is_better=False)\n",
    "grid_ridge_m = GridSearchCV( ridge_m_,\n",
    "                          ridge_params_,\n",
    "                          scoring = rmsle_scorer,\n",
    "                          cv=5)\n",
    "yLabelsLog = np.log1p(yLabels)\n",
    "grid_ridge_m.fit( dataTrain, yLabelsLog )\n",
    "preds = grid_ridge_m.predict(X= dataTrain)\n",
    "print (grid_ridge_m.best_params_)\n",
    "print (\"RMSLE Value For Ridge Regression: \",rmsle(np.exp(yLabelsLog),np.exp(preds),False))\n",
    "\n",
    "#fig,ax= plt.subplots()\n",
    "#fig.set_size_inches(8, 6)\n",
    "#df = pd.DataFrame(grid_ridge_m.grid_scores)\n",
    "#df[\"alpha\"] = df[\"parameters\"].apply(lambda x:x[\"alpha\"])\n",
    "#df[\"rmsle\"] = df[\"mean_validation_score\"].apply(lambda x:-x)\n",
    "#sn.pointplot(data=df,x=\"alpha\",y=\"rmsle\",ax=ax)"
   ]
  },
  {
   "cell_type": "markdown",
   "metadata": {},
   "source": [
    "Cделаем прогнозы на тестовом наборе"
   ]
  },
  {
   "cell_type": "code",
   "execution_count": 96,
   "metadata": {},
   "outputs": [
    {
     "data": {
      "text/plain": [
       "Ridge(alpha=1000)"
      ]
     },
     "execution_count": 96,
     "metadata": {},
     "output_type": "execute_result"
    },
    {
     "data": {
      "text/plain": [
       "151.0817706876184"
      ]
     },
     "execution_count": 96,
     "metadata": {},
     "output_type": "execute_result"
    }
   ],
   "source": [
    "Rd_model = Ridge(alpha=1000)\n",
    "Rd_model.fit(dataTrain, yLabelsLog)\n",
    "Rd_preds = Rd_model.predict(X=dataTest)\n",
    "np.exp(Rd_preds).mean()"
   ]
  },
  {
   "cell_type": "code",
   "execution_count": 97,
   "metadata": {},
   "outputs": [],
   "source": [
    "submission = pd.DataFrame({\n",
    "    \"datetime\": submmit_datetime, \n",
    "    \"count\": np.exp(Rd_preds)\n",
    "})\n",
    "submission.to_csv('Rd_submission.csv', index=False)"
   ]
  },
  {
   "cell_type": "code",
   "execution_count": 98,
   "metadata": {},
   "outputs": [],
   "source": [
    "from sklearn.linear_model import Lasso"
   ]
  },
  {
   "cell_type": "code",
   "execution_count": 99,
   "metadata": {},
   "outputs": [
    {
     "data": {
      "text/plain": [
       "GridSearchCV(cv=5, estimator=Lasso(),\n",
       "             param_grid={'alpha': array([1.00000000e+01, 1.00000000e+00, 5.00000000e-01, 3.33333333e-01,\n",
       "       2.50000000e-01, 1.00000000e-01, 3.33333333e-02, 1.00000000e-02,\n",
       "       5.00000000e-03, 3.33333333e-03, 2.50000000e-03, 1.25000000e-03,\n",
       "       1.11111111e-03, 1.00000000e-03]),\n",
       "                         'max_iter': [3000]},\n",
       "             scoring=make_scorer(rmsle, greater_is_better=False))"
      ]
     },
     "execution_count": 99,
     "metadata": {},
     "output_type": "execute_result"
    },
    {
     "name": "stdout",
     "output_type": "stream",
     "text": [
      "{'alpha': 0.01, 'max_iter': 3000}\n",
      "RMSLE Value For Lasso Regression:  0.9780846547284869\n"
     ]
    }
   ],
   "source": [
    "lasso_m_ = Lasso()\n",
    "\n",
    "alpha  = 1/np.array([0.1, 1, 2, 3, 4, 10, 30,100,200,300,400,800,900,1000])\n",
    "lasso_params_ = { 'max_iter':[3000],'alpha':alpha}\n",
    "\n",
    "grid_lasso_m = GridSearchCV( lasso_m_,lasso_params_,scoring = rmsle_scorer,cv=5)\n",
    "yLabelsLog = np.log1p(yLabels)\n",
    "grid_lasso_m.fit( dataTrain, yLabelsLog )\n",
    "preds = grid_lasso_m.predict(X= dataTrain)\n",
    "print (grid_lasso_m.best_params_)\n",
    "print (\"RMSLE Value For Lasso Regression: \",rmsle(np.exp(yLabelsLog),np.exp(preds),False))\n",
    "\n"
   ]
  },
  {
   "cell_type": "markdown",
   "metadata": {},
   "source": [
    "Используя тот же метод для проверки подходящих параметров для модели регрессии Лассо, альфа составляет 0.005, но RMSLE, протестированный с обучающим набором, все еще не имеет разрыва с линейной регрессией."
   ]
  },
  {
   "cell_type": "code",
   "execution_count": 100,
   "metadata": {},
   "outputs": [
    {
     "data": {
      "text/plain": [
       "Ridge(alpha=0.005)"
      ]
     },
     "execution_count": 100,
     "metadata": {},
     "output_type": "execute_result"
    },
    {
     "data": {
      "text/plain": [
       "151.20270881605538"
      ]
     },
     "execution_count": 100,
     "metadata": {},
     "output_type": "execute_result"
    }
   ],
   "source": [
    "Ls_model = Ridge(alpha=0.005)\n",
    "Ls_model.fit(dataTrain, yLabelsLog)\n",
    "Ls_preds = Ls_model.predict(X=dataTest)\n",
    "np.exp(Ls_preds).mean()"
   ]
  },
  {
   "cell_type": "code",
   "execution_count": 101,
   "metadata": {},
   "outputs": [],
   "source": [
    "submission = pd.DataFrame({\n",
    "    \"datetime\": submmit_datetime, \n",
    "    \"count\": np.exp(Ls_preds)\n",
    "})\n",
    "submission.to_csv('Ls_submission.csv', index=False)"
   ]
  },
  {
   "cell_type": "markdown",
   "metadata": {},
   "source": [
    "## Случайный лес"
   ]
  },
  {
   "cell_type": "markdown",
   "metadata": {},
   "source": [
    "Запрос данных обнаружил, что случайный лес также может предсказать регрессионные данные, и, учитывая, что в наборе данных есть довольно много функций, которые не являются числовыми, но категориальными."
   ]
  },
  {
   "cell_type": "code",
   "execution_count": 102,
   "metadata": {},
   "outputs": [
    {
     "data": {
      "text/plain": [
       "RandomForestRegressor()"
      ]
     },
     "execution_count": 102,
     "metadata": {},
     "output_type": "execute_result"
    },
    {
     "data": {
      "text/plain": [
       "0.11113074538453807"
      ]
     },
     "execution_count": 102,
     "metadata": {},
     "output_type": "execute_result"
    }
   ],
   "source": [
    "from sklearn.ensemble import RandomForestRegressor\n",
    "Rf_model = RandomForestRegressor(n_estimators=100)\n",
    "Rf_model.fit(dataTrain,yLabelsLog)\n",
    "preds = Rf_model.predict(X= dataTrain)\n",
    "rmsle(np.exp(yLabelsLog),np.exp(preds),False)"
   ]
  },
  {
   "cell_type": "markdown",
   "metadata": {},
   "source": [
    "В обучающем наборе случайный лес имеет значительное улучшение по сравнению с общим методом регрессии, и случайный лес используется для прогнозирования тестового набора."
   ]
  },
  {
   "cell_type": "code",
   "execution_count": 103,
   "metadata": {},
   "outputs": [
    {
     "data": {
      "text/plain": [
       "188.35913246905167"
      ]
     },
     "execution_count": 103,
     "metadata": {},
     "output_type": "execute_result"
    }
   ],
   "source": [
    "Rf_preds = Rf_model.predict(X=dataTest)\n",
    "np.exp(Rf_preds).mean()"
   ]
  },
  {
   "cell_type": "code",
   "execution_count": 104,
   "metadata": {},
   "outputs": [],
   "source": [
    "submission = pd.DataFrame({\n",
    "    \"datetime\": submmit_datetime, \n",
    "    \"count\": np.exp(Rf_preds)\n",
    "})\n",
    "submission.to_csv('Rf_submission.csv', index=False)"
   ]
  },
  {
   "cell_type": "markdown",
   "metadata": {},
   "source": [
    "## Xgboost"
   ]
  },
  {
   "cell_type": "code",
   "execution_count": 105,
   "metadata": {},
   "outputs": [],
   "source": [
    "import xgboost as xg\n",
    "\n",
    "def grid_search():\n",
    "    xgr=xg.XGBRegressor(max_depth=8,min_child_weight=6,gamma=0.4)\n",
    "    xgr.fit(dataTrain, yLabelsLog)\n",
    "    parameters=[{'subsample':[i/10.0 for i in range(6,10)],\n",
    " 'colsample_bytree':[i/10.0 for i in range(6,10)]}]\n",
    "    grid_search= GridSearchCV(estimator=xgr, param_grid=parameters, cv=10,n_jobs=-1)\n",
    "    grid_search=grid_search.fit(dataTrain, yLabelsLog)\n",
    "    best_accuracy=grid_search.best_score_\n",
    "    best_parameters=grid_search.best_params_\n",
    "    return best_accuracy, best_parameters"
   ]
  },
  {
   "cell_type": "code",
   "execution_count": 109,
   "metadata": {},
   "outputs": [
    {
     "data": {
      "text/plain": [
       "0.19529879210500223"
      ]
     },
     "execution_count": 109,
     "metadata": {},
     "output_type": "execute_result"
    }
   ],
   "source": [
    "preds = xgr.predict(dataTrain)\n",
    "rmsle(np.exp(yLabelsLog),np.exp(preds),False)\n"
   ]
  },
  {
   "cell_type": "code",
   "execution_count": 110,
   "metadata": {},
   "outputs": [
    {
     "data": {
      "text/plain": [
       "188.35913246905167"
      ]
     },
     "execution_count": 110,
     "metadata": {},
     "output_type": "execute_result"
    }
   ],
   "source": [
    "xg_preds = xgr.predict(dataTest)\n",
    "np.exp(Rf_preds).mean()"
   ]
  },
  {
   "cell_type": "code",
   "execution_count": 111,
   "metadata": {},
   "outputs": [],
   "source": [
    "submission = pd.DataFrame({\n",
    "    \"datetime\": submmit_datetime, \n",
    "    \"count\": np.exp(xg_preds)\n",
    "})\n",
    "submission.to_csv('xg_submission.csv', index=False)"
   ]
  },
  {
   "cell_type": "code",
   "execution_count": 114,
   "metadata": {},
   "outputs": [],
   "source": [
    "train = train.set_index(['date'])"
   ]
  },
  {
   "cell_type": "code",
   "execution_count": 115,
   "metadata": {},
   "outputs": [],
   "source": [
    "train.index = pd.to_datetime(train.index)"
   ]
  },
  {
   "cell_type": "code",
   "execution_count": 116,
   "metadata": {},
   "outputs": [
    {
     "data": {
      "text/plain": [
       "season          int64\n",
       "holiday         int64\n",
       "workingday      int64\n",
       "weather         int64\n",
       "temp          float64\n",
       "atemp         float64\n",
       "humidity        int64\n",
       "windspeed     float64\n",
       "casual          int64\n",
       "registered      int64\n",
       "count           int64\n",
       "hour            int64\n",
       "pirod           int64\n",
       "dtype: object"
      ]
     },
     "execution_count": 116,
     "metadata": {},
     "output_type": "execute_result"
    }
   ],
   "source": [
    "train.dtypes"
   ]
  },
  {
   "cell_type": "code",
   "execution_count": 117,
   "metadata": {},
   "outputs": [],
   "source": [
    "class Stationary:\n",
    "    def __init__(self, significance=.005):\n",
    "        self.SignificanceLevel = significance\n",
    "        self.pValue = None\n",
    "        self.isStationary = None\n",
    "\n",
    "    def ADF_Stationarity_Test(self, timeseries, printResults=True):\n",
    "\n",
    "        # Критерий Дики-Фуллера:\n",
    "        print(timeseries)\n",
    "        try:\n",
    "            adfTest = adfuller(timeseries, autolag='AIC')\n",
    "\n",
    "            self.pValue = adfTest[1]\n",
    "\n",
    "            if (self.pValue < self.SignificanceLevel):\n",
    "                self.isStationary = True\n",
    "            else:\n",
    "                self.isStationary = False\n",
    "            #self.isStationary=True\n",
    "            if printResults:\n",
    "                dfResults = pd.Series(adfTest[0:4],\n",
    "                                      index=['ADF Test Statistic', 'P-Value', '# Lags Used', '# Observations Used'])\n",
    "\n",
    "                # Добавить критические значения\n",
    "                for key, value in adfTest[4].items():\n",
    "                    dfResults['Critical Value (%s)' % key] = value\n",
    "\n",
    "                print('Augmented Dickey-Fuller Test Results:')\n",
    "                print(dfResults)\n",
    "        except Exception as e:\n",
    "          print(e)\n",
    "          self.isStationary = False"
   ]
  },
  {
   "cell_type": "code",
   "execution_count": 118,
   "metadata": {},
   "outputs": [],
   "source": [
    "sTest = Stationary()"
   ]
  },
  {
   "cell_type": "code",
   "execution_count": 119,
   "metadata": {},
   "outputs": [],
   "source": [
    "# create a differenced series\n",
    "def difference(dataset, interval=1):\n",
    "    diff = list()\n",
    "    for i in range(interval, len(dataset)):\n",
    "        value = dataset[i] - dataset[i - interval]\n",
    "        # print(interval, dataset[i], dataset[i - interval])\n",
    "        diff.append(value)\n",
    "    return pd.Series(diff)"
   ]
  },
  {
   "cell_type": "code",
   "execution_count": 121,
   "metadata": {},
   "outputs": [],
   "source": [
    "diff_values = difference(train['count'], 1)"
   ]
  },
  {
   "cell_type": "code",
   "execution_count": 122,
   "metadata": {},
   "outputs": [],
   "source": [
    "xtrain, xtest = diff_values[0:-23], diff_values[-23:]"
   ]
  },
  {
   "cell_type": "code",
   "execution_count": 123,
   "metadata": {},
   "outputs": [],
   "source": [
    "def timeseries_to_supervised(data, lag=1):\n",
    "    dfx = pd.DataFrame(data)\n",
    "    df = dfx.assign(**{\n",
    "        '{} (t-{})'.format(col, t): dfx[col].shift(t)\n",
    "        for t in range(lag+1)\n",
    "        for col in dfx\n",
    "    })\n",
    "\n",
    "    df=df.drop([df.columns[0]], axis=1)\n",
    "    df=df[df.columns[::-1]]\n",
    "    return df[lag:]"
   ]
  },
  {
   "cell_type": "code",
   "execution_count": 124,
   "metadata": {},
   "outputs": [],
   "source": [
    "def scale(train, test):\n",
    "    # fit scaler\n",
    "    scaler = MinMaxScaler()  \n",
    "    \n",
    "    # StandardScaler()\n",
    "    scaler = scaler.fit(train)\n",
    "\n",
    "    # transform train\n",
    "    train = train.reshape(train.shape[0], train.shape[1])\n",
    "    tr_scaled = scaler.transform(train)\n",
    "\n",
    "    # transform test\n",
    "    test = test.reshape(test.shape[0], test.shape[1])\n",
    "    ts_scaled = scaler.transform(test)\n",
    "    \n",
    "    return scaler, tr_scaled, ts_scaled"
   ]
  },
  {
   "cell_type": "code",
   "execution_count": 125,
   "metadata": {},
   "outputs": [],
   "source": [
    "values_unscaled = np.concatenate((xtrain, xtest))\n",
    "supervised_raw = timeseries_to_supervised(values_unscaled, 12)"
   ]
  },
  {
   "cell_type": "code",
   "execution_count": 126,
   "metadata": {},
   "outputs": [],
   "source": [
    "supervised_raw = supervised_raw.values.astype(\"float32\")"
   ]
  },
  {
   "cell_type": "code",
   "execution_count": 127,
   "metadata": {},
   "outputs": [
    {
     "data": {
      "text/plain": [
       "array([[  24.,   -8.,  -19., ...,   20.,   28.,   10.],\n",
       "       [  -8.,  -19.,  -12., ...,   28.,   10.,   12.],\n",
       "       [ -19.,  -12.,    0., ...,   10.,   12.,    4.],\n",
       "       ...,\n",
       "       [-361., -153.,   36., ..., -233.,  -95.,  -73.],\n",
       "       [-153.,   36.,   36., ...,  -95.,  -73.,  -39.],\n",
       "       [  36.,   36.,  -23., ...,  -73.,  -39.,  -41.]], dtype=float32)"
      ]
     },
     "execution_count": 127,
     "metadata": {},
     "output_type": "execute_result"
    }
   ],
   "source": [
    "supervised_raw"
   ]
  },
  {
   "cell_type": "code",
   "execution_count": 130,
   "metadata": {},
   "outputs": [],
   "source": [
    "%matplotlib inline\n",
    "\n",
    "import numpy as np\n",
    "import pandas as pd\n",
    "import matplotlib.pyplot as plt\n",
    "\n",
    "#import chart_studio.plotly as plot_mpl\n",
    "#import plotly.graph_objs as go\n",
    "import xgboost as xgb\n",
    "#import keras.backend as K\n",
    "#import tensorflow as tf\n",
    "\n",
    "from math import sqrt\n",
    "from datetime import datetime\n",
    "from statsmodels.tsa.stattools import adfuller\n",
    "#from pyramid.arima import auto_arima\n",
    "\n",
    "from socket import socket\n",
    "from statsmodels.tsa.seasonal import seasonal_decompose\n",
    "\n",
    "#from keras.models import Sequential\n",
    "#from keras.layers import Conv1D, LSTM, TimeDistributed, Dense\n",
    "#from keras.optimizers import Adam\n",
    "#from keras.callbacks import EarlyStopping\n",
    "\n",
    "from sklearn.model_selection import GridSearchCV\n",
    "from sklearn.preprocessing import MinMaxScaler\n",
    "from sklearn.metrics import mean_squared_error, mean_absolute_error, mean_squared_log_error"
   ]
  },
  {
   "cell_type": "code",
   "execution_count": 131,
   "metadata": {},
   "outputs": [],
   "source": [
    "scaler, train_scaled, test_scaled = scale(xtrain.values.reshape(len(xtrain), 1), xtest.values.reshape(len(xtest), 1))\n"
   ]
  },
  {
   "cell_type": "code",
   "execution_count": 132,
   "metadata": {},
   "outputs": [],
   "source": [
    "values_scaled = np.concatenate((train_scaled, test_scaled))"
   ]
  },
  {
   "cell_type": "code",
   "execution_count": 133,
   "metadata": {},
   "outputs": [],
   "source": [
    "supervised = timeseries_to_supervised(values_scaled, 12)\n",
    "\n",
    "supervised_values = supervised.values.astype('float32')"
   ]
  },
  {
   "cell_type": "code",
   "execution_count": 134,
   "metadata": {},
   "outputs": [],
   "source": [
    "supervised_train, supervised_test = supervised_raw[0:-23], supervised_raw[-23:]\n",
    "train_scaled, test_scaled = supervised_values[0:-23], supervised_values[-23:]"
   ]
  },
  {
   "cell_type": "code",
   "execution_count": 135,
   "metadata": {},
   "outputs": [
    {
     "data": {
      "text/plain": [
       "array([[0.5668394 , 0.53367877, 0.5222798 , ..., 0.5626943 , 0.5709845 ,\n",
       "        0.5523316 ],\n",
       "       [0.53367877, 0.5222798 , 0.5295337 , ..., 0.5709845 , 0.5523316 ,\n",
       "        0.55440414],\n",
       "       [0.5222798 , 0.5295337 , 0.54196894, ..., 0.5523316 , 0.55440414,\n",
       "        0.54611397],\n",
       "       ...,\n",
       "       [0.39481866, 0.6300518 , 0.58756477, ..., 0.453886  , 0.43834198,\n",
       "        0.5046632 ],\n",
       "       [0.6300518 , 0.58756477, 0.5139896 , ..., 0.43834198, 0.5046632 ,\n",
       "        0.48911917],\n",
       "       [0.58756477, 0.5139896 , 0.5015544 , ..., 0.5046632 , 0.48911917,\n",
       "        0.50051814]], dtype=float32)"
      ]
     },
     "execution_count": 135,
     "metadata": {},
     "output_type": "execute_result"
    }
   ],
   "source": [
    "train_scaled"
   ]
  },
  {
   "cell_type": "code",
   "execution_count": 136,
   "metadata": {},
   "outputs": [],
   "source": [
    "train_X, train_y = train_scaled[:, :-1], train_scaled[:, -1]\n",
    "test_X, test_y = test_scaled[:, :-1], test_scaled[:, -1]"
   ]
  },
  {
   "cell_type": "code",
   "execution_count": 137,
   "metadata": {},
   "outputs": [
    {
     "data": {
      "text/plain": [
       "array([[0.5523316 ],\n",
       "       [0.55440414],\n",
       "       [0.54611397],\n",
       "       ...,\n",
       "       [0.5046632 ],\n",
       "       [0.48911917],\n",
       "       [0.50051814]], dtype=float32)"
      ]
     },
     "execution_count": 137,
     "metadata": {},
     "output_type": "execute_result"
    }
   ],
   "source": [
    "train_y.reshape(train_y.shape[0], 1)"
   ]
  },
  {
   "cell_type": "code",
   "execution_count": 138,
   "metadata": {},
   "outputs": [
    {
     "data": {
      "text/plain": [
       "array([0.5523316 , 0.55440414, 0.54611397, ..., 0.5046632 , 0.48911917,\n",
       "       0.50051814], dtype=float32)"
      ]
     },
     "execution_count": 138,
     "metadata": {},
     "output_type": "execute_result"
    }
   ],
   "source": [
    "train_y"
   ]
  },
  {
   "cell_type": "code",
   "execution_count": 139,
   "metadata": {},
   "outputs": [
    {
     "data": {
      "text/plain": [
       "(10703,)"
      ]
     },
     "execution_count": 139,
     "metadata": {},
     "output_type": "execute_result"
    }
   ],
   "source": [
    "train_y.shape"
   ]
  },
  {
   "cell_type": "code",
   "execution_count": 140,
   "metadata": {},
   "outputs": [
    {
     "name": "stdout",
     "output_type": "stream",
     "text": [
      "Fitting 5 folds for each of 360 candidates, totalling 1800 fits\n"
     ]
    },
    {
     "name": "stderr",
     "output_type": "stream",
     "text": [
      "[Parallel(n_jobs=-1)]: Using backend LokyBackend with 4 concurrent workers.\n",
      "[Parallel(n_jobs=-1)]: Done  42 tasks      | elapsed:   34.4s\n",
      "[Parallel(n_jobs=-1)]: Done 192 tasks      | elapsed:  2.7min\n",
      "[Parallel(n_jobs=-1)]: Done 442 tasks      | elapsed:  5.7min\n",
      "[Parallel(n_jobs=-1)]: Done 792 tasks      | elapsed:  9.7min\n",
      "[Parallel(n_jobs=-1)]: Done 1242 tasks      | elapsed: 14.3min\n",
      "[Parallel(n_jobs=-1)]: Done 1792 tasks      | elapsed: 19.8min\n"
     ]
    },
    {
     "name": "stdout",
     "output_type": "stream",
     "text": [
      "[0]\tvalidation_0-rmse:0.09896\n"
     ]
    },
    {
     "name": "stderr",
     "output_type": "stream",
     "text": [
      "[Parallel(n_jobs=-1)]: Done 1800 out of 1800 | elapsed: 20.0min finished\n"
     ]
    },
    {
     "name": "stdout",
     "output_type": "stream",
     "text": [
      "[1]\tvalidation_0-rmse:0.09219\n",
      "[2]\tvalidation_0-rmse:0.08612\n",
      "[3]\tvalidation_0-rmse:0.08077\n",
      "[4]\tvalidation_0-rmse:0.07587\n",
      "[5]\tvalidation_0-rmse:0.07176\n",
      "[6]\tvalidation_0-rmse:0.06809\n",
      "[7]\tvalidation_0-rmse:0.06477\n",
      "[8]\tvalidation_0-rmse:0.06186\n",
      "[9]\tvalidation_0-rmse:0.05943\n",
      "[10]\tvalidation_0-rmse:0.05717\n",
      "[11]\tvalidation_0-rmse:0.05531\n",
      "[12]\tvalidation_0-rmse:0.05352\n",
      "[13]\tvalidation_0-rmse:0.05202\n",
      "[14]\tvalidation_0-rmse:0.05066\n",
      "[15]\tvalidation_0-rmse:0.04953\n",
      "[16]\tvalidation_0-rmse:0.04849\n",
      "[17]\tvalidation_0-rmse:0.04761\n",
      "[18]\tvalidation_0-rmse:0.04677\n",
      "[19]\tvalidation_0-rmse:0.04603\n",
      "[20]\tvalidation_0-rmse:0.04538\n",
      "[21]\tvalidation_0-rmse:0.04483\n",
      "[22]\tvalidation_0-rmse:0.04425\n",
      "[23]\tvalidation_0-rmse:0.04376\n",
      "[24]\tvalidation_0-rmse:0.04329\n",
      "[25]\tvalidation_0-rmse:0.04290\n",
      "[26]\tvalidation_0-rmse:0.04256\n",
      "[27]\tvalidation_0-rmse:0.04227\n",
      "[28]\tvalidation_0-rmse:0.04194\n",
      "[29]\tvalidation_0-rmse:0.04170\n",
      "[30]\tvalidation_0-rmse:0.04143\n",
      "[31]\tvalidation_0-rmse:0.04123\n",
      "[32]\tvalidation_0-rmse:0.04102\n",
      "[33]\tvalidation_0-rmse:0.04086\n",
      "[34]\tvalidation_0-rmse:0.04071\n",
      "[35]\tvalidation_0-rmse:0.04052\n",
      "[36]\tvalidation_0-rmse:0.04037\n",
      "[37]\tvalidation_0-rmse:0.04020\n",
      "[38]\tvalidation_0-rmse:0.04007\n",
      "[39]\tvalidation_0-rmse:0.03993\n",
      "[40]\tvalidation_0-rmse:0.03979\n",
      "[41]\tvalidation_0-rmse:0.03967\n",
      "[42]\tvalidation_0-rmse:0.03950\n",
      "[43]\tvalidation_0-rmse:0.03939\n",
      "[44]\tvalidation_0-rmse:0.03923\n",
      "[45]\tvalidation_0-rmse:0.03915\n",
      "[46]\tvalidation_0-rmse:0.03902\n",
      "[47]\tvalidation_0-rmse:0.03894\n",
      "[48]\tvalidation_0-rmse:0.03882\n",
      "[49]\tvalidation_0-rmse:0.03874\n",
      "[50]\tvalidation_0-rmse:0.03867\n",
      "[51]\tvalidation_0-rmse:0.03855\n",
      "[52]\tvalidation_0-rmse:0.03843\n",
      "[53]\tvalidation_0-rmse:0.03835\n",
      "[54]\tvalidation_0-rmse:0.03828\n",
      "[55]\tvalidation_0-rmse:0.03823\n",
      "[56]\tvalidation_0-rmse:0.03815\n",
      "[57]\tvalidation_0-rmse:0.03797\n",
      "[58]\tvalidation_0-rmse:0.03791\n",
      "[59]\tvalidation_0-rmse:0.03782\n",
      "[60]\tvalidation_0-rmse:0.03769\n",
      "[61]\tvalidation_0-rmse:0.03762\n",
      "[62]\tvalidation_0-rmse:0.03757\n",
      "[63]\tvalidation_0-rmse:0.03751\n",
      "[64]\tvalidation_0-rmse:0.03742\n",
      "[65]\tvalidation_0-rmse:0.03730\n",
      "[66]\tvalidation_0-rmse:0.03722\n",
      "[67]\tvalidation_0-rmse:0.03714\n",
      "[68]\tvalidation_0-rmse:0.03707\n",
      "[69]\tvalidation_0-rmse:0.03701\n",
      "[70]\tvalidation_0-rmse:0.03692\n",
      "[71]\tvalidation_0-rmse:0.03686\n",
      "[72]\tvalidation_0-rmse:0.03682\n",
      "[73]\tvalidation_0-rmse:0.03673\n",
      "[74]\tvalidation_0-rmse:0.03666\n",
      "[75]\tvalidation_0-rmse:0.03657\n",
      "[76]\tvalidation_0-rmse:0.03648\n",
      "[77]\tvalidation_0-rmse:0.03639\n",
      "[78]\tvalidation_0-rmse:0.03636\n",
      "[79]\tvalidation_0-rmse:0.03629\n",
      "[80]\tvalidation_0-rmse:0.03625\n",
      "[81]\tvalidation_0-rmse:0.03619\n",
      "[82]\tvalidation_0-rmse:0.03611\n",
      "[83]\tvalidation_0-rmse:0.03604\n",
      "[84]\tvalidation_0-rmse:0.03601\n",
      "[85]\tvalidation_0-rmse:0.03593\n",
      "[86]\tvalidation_0-rmse:0.03588\n",
      "[87]\tvalidation_0-rmse:0.03582\n",
      "[88]\tvalidation_0-rmse:0.03578\n",
      "[89]\tvalidation_0-rmse:0.03574\n",
      "[90]\tvalidation_0-rmse:0.03568\n",
      "[91]\tvalidation_0-rmse:0.03564\n",
      "[92]\tvalidation_0-rmse:0.03556\n",
      "[93]\tvalidation_0-rmse:0.03551\n",
      "[94]\tvalidation_0-rmse:0.03547\n",
      "[95]\tvalidation_0-rmse:0.03542\n",
      "[96]\tvalidation_0-rmse:0.03536\n",
      "[97]\tvalidation_0-rmse:0.03532\n",
      "[98]\tvalidation_0-rmse:0.03526\n",
      "[99]\tvalidation_0-rmse:0.03520\n",
      "[100]\tvalidation_0-rmse:0.03517\n",
      "[101]\tvalidation_0-rmse:0.03510\n",
      "[102]\tvalidation_0-rmse:0.03506\n",
      "[103]\tvalidation_0-rmse:0.03500\n",
      "[104]\tvalidation_0-rmse:0.03494\n",
      "[105]\tvalidation_0-rmse:0.03490\n",
      "[106]\tvalidation_0-rmse:0.03485\n",
      "[107]\tvalidation_0-rmse:0.03477\n",
      "[108]\tvalidation_0-rmse:0.03471\n",
      "[109]\tvalidation_0-rmse:0.03467\n",
      "[110]\tvalidation_0-rmse:0.03462\n",
      "[111]\tvalidation_0-rmse:0.03458\n",
      "[112]\tvalidation_0-rmse:0.03452\n",
      "[113]\tvalidation_0-rmse:0.03445\n",
      "[114]\tvalidation_0-rmse:0.03441\n",
      "[115]\tvalidation_0-rmse:0.03436\n",
      "[116]\tvalidation_0-rmse:0.03432\n",
      "[117]\tvalidation_0-rmse:0.03428\n",
      "[118]\tvalidation_0-rmse:0.03423\n",
      "[119]\tvalidation_0-rmse:0.03420\n",
      "[120]\tvalidation_0-rmse:0.03417\n",
      "[121]\tvalidation_0-rmse:0.03413\n",
      "[122]\tvalidation_0-rmse:0.03409\n",
      "[123]\tvalidation_0-rmse:0.03405\n",
      "[124]\tvalidation_0-rmse:0.03401\n",
      "[125]\tvalidation_0-rmse:0.03398\n",
      "[126]\tvalidation_0-rmse:0.03392\n",
      "[127]\tvalidation_0-rmse:0.03389\n",
      "[128]\tvalidation_0-rmse:0.03386\n",
      "[129]\tvalidation_0-rmse:0.03382\n",
      "[130]\tvalidation_0-rmse:0.03378\n",
      "[131]\tvalidation_0-rmse:0.03373\n",
      "[132]\tvalidation_0-rmse:0.03369\n",
      "[133]\tvalidation_0-rmse:0.03367\n",
      "[134]\tvalidation_0-rmse:0.03361\n",
      "[135]\tvalidation_0-rmse:0.03357\n",
      "[136]\tvalidation_0-rmse:0.03355\n",
      "[137]\tvalidation_0-rmse:0.03350\n",
      "[138]\tvalidation_0-rmse:0.03347\n",
      "[139]\tvalidation_0-rmse:0.03342\n",
      "[140]\tvalidation_0-rmse:0.03337\n",
      "[141]\tvalidation_0-rmse:0.03332\n",
      "[142]\tvalidation_0-rmse:0.03329\n",
      "[143]\tvalidation_0-rmse:0.03327\n",
      "[144]\tvalidation_0-rmse:0.03324\n",
      "[145]\tvalidation_0-rmse:0.03321\n",
      "[146]\tvalidation_0-rmse:0.03319\n",
      "[147]\tvalidation_0-rmse:0.03314\n",
      "[148]\tvalidation_0-rmse:0.03310\n",
      "[149]\tvalidation_0-rmse:0.03307\n"
     ]
    },
    {
     "data": {
      "text/plain": [
       "GridSearchCV(cv=5,\n",
       "             estimator=XGBRegressor(base_score=None, booster=None,\n",
       "                                    colsample_bylevel=None,\n",
       "                                    colsample_bynode=None,\n",
       "                                    colsample_bytree=None,\n",
       "                                    enable_categorical=False, gamma=None,\n",
       "                                    gpu_id=None, importance_type=None,\n",
       "                                    interaction_constraints=None,\n",
       "                                    learning_rate=None, max_delta_step=None,\n",
       "                                    max_depth=None, min_child_weight=None,\n",
       "                                    missing=nan, monotone_constraints=None,\n",
       "                                    n...\n",
       "                                    random_state=None, reg_alpha=None,\n",
       "                                    reg_lambda=None, scale_pos_weight=None,\n",
       "                                    subsample=None, tree_method=None,\n",
       "                                    validate_parameters=None, verbosity=None),\n",
       "             n_jobs=-1,\n",
       "             param_grid={'gamma': [0, 0.1, 0.3, 1],\n",
       "                         'learning_rate': [0.001, 0.01, 0.1],\n",
       "                         'max_depth': [2, 4, 6, 7, 12],\n",
       "                         'n_estimators': [10, 45, 90, 100, 150, 250],\n",
       "                         'nthread': [-1], 'reg_alpha': [1], 'reg_lambda': [1],\n",
       "                         'seed': [10]},\n",
       "             verbose=True)"
      ]
     },
     "execution_count": 140,
     "metadata": {},
     "output_type": "execute_result"
    }
   ],
   "source": [
    "parameters = { 'gamma' : [0, 0.1, 0.3, 1], 'learning_rate' : [0.001, 0.01, 0.1], \n",
    "              'max_depth' : [2, 4, 6, 7, 12], \n",
    "              'n_estimators' : [10, 45, 90, 100, 150, 250],\n",
    "              'nthread' : [-1], 'reg_alpha' : [1], 'reg_lambda' : [1], 'seed' : [10] }\n",
    "\n",
    "bst = xgb.XGBRegressor()\n",
    "xgb_grid = GridSearchCV(bst,\n",
    "                        parameters,\n",
    "                        cv=5,\n",
    "                        n_jobs=-1,\n",
    "                        verbose=True,\n",
    "                        )\n",
    "xgb_grid.fit(train_X, train_y, eval_set=[(train_X, train_y)], early_stopping_rounds=50)"
   ]
  },
  {
   "cell_type": "code",
   "execution_count": 142,
   "metadata": {},
   "outputs": [
    {
     "data": {
      "text/plain": [
       "XGBRegressor(base_score=0.5, booster='gbtree', colsample_bylevel=1,\n",
       "             colsample_bynode=1, colsample_bytree=1, enable_categorical=False,\n",
       "             gamma=0, gpu_id=-1, importance_type=None,\n",
       "             interaction_constraints='', learning_rate=0.1, max_delta_step=0,\n",
       "             max_depth=7, min_child_weight=1, missing=nan,\n",
       "             monotone_constraints='()', n_estimators=150, n_jobs=4, nthread=-1,\n",
       "             num_parallel_tree=1, predictor='auto', random_state=10,\n",
       "             reg_alpha=1, reg_lambda=1, scale_pos_weight=1, seed=10,\n",
       "             subsample=1, tree_method='exact', validate_parameters=1,\n",
       "             verbosity=None)"
      ]
     },
     "execution_count": 142,
     "metadata": {},
     "output_type": "execute_result"
    }
   ],
   "source": [
    "xgb_grid.best_estimator_"
   ]
  },
  {
   "cell_type": "code",
   "execution_count": null,
   "metadata": {},
   "outputs": [],
   "source": []
  }
 ],
 "metadata": {
  "kernelspec": {
   "display_name": "Python 3",
   "language": "python",
   "name": "python3"
  },
  "language_info": {
   "codemirror_mode": {
    "name": "ipython",
    "version": 3
   },
   "file_extension": ".py",
   "mimetype": "text/x-python",
   "name": "python",
   "nbconvert_exporter": "python",
   "pygments_lexer": "ipython3",
   "version": "3.7.6"
  }
 },
 "nbformat": 4,
 "nbformat_minor": 4
}
